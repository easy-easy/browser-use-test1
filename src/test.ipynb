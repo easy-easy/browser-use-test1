{
 "cells": [
  {
   "cell_type": "code",
   "execution_count": 2,
   "id": "e394fc6e",
   "metadata": {},
   "outputs": [
    {
     "ename": "ModuleNotFoundError",
     "evalue": "No module named 'langchain_openai'",
     "output_type": "error",
     "traceback": [
      "\u001b[31m---------------------------------------------------------------------------\u001b[39m",
      "\u001b[31mModuleNotFoundError\u001b[39m                       Traceback (most recent call last)",
      "\u001b[36mCell\u001b[39m\u001b[36m \u001b[39m\u001b[32mIn[2]\u001b[39m\u001b[32m, line 5\u001b[39m\n\u001b[32m      2\u001b[39m \u001b[38;5;28;01mimport\u001b[39;00m\u001b[38;5;250m \u001b[39m\u001b[34;01masyncio\u001b[39;00m\n\u001b[32m      3\u001b[39m \u001b[38;5;28;01mfrom\u001b[39;00m\u001b[38;5;250m \u001b[39m\u001b[34;01mpydantic\u001b[39;00m\u001b[38;5;250m \u001b[39m\u001b[38;5;28;01mimport\u001b[39;00m BaseModel\n\u001b[32m----> \u001b[39m\u001b[32m5\u001b[39m \u001b[38;5;28;01mfrom\u001b[39;00m\u001b[38;5;250m \u001b[39m\u001b[34;01mlangchain_openai\u001b[39;00m\u001b[38;5;250m \u001b[39m\u001b[38;5;28;01mimport\u001b[39;00m ChatOpenAI\n\u001b[32m      6\u001b[39m \u001b[38;5;28;01mfrom\u001b[39;00m\u001b[38;5;250m \u001b[39m\u001b[34;01mbrowser_use\u001b[39;00m\u001b[38;5;250m \u001b[39m\u001b[38;5;28;01mimport\u001b[39;00m Agent\n\u001b[32m      7\u001b[39m \u001b[38;5;28;01mfrom\u001b[39;00m\u001b[38;5;250m \u001b[39m\u001b[34;01mbrowser_use\u001b[39;00m\u001b[34;01m.\u001b[39;00m\u001b[34;01mcontroller\u001b[39;00m\u001b[34;01m.\u001b[39;00m\u001b[34;01mservice\u001b[39;00m\u001b[38;5;250m \u001b[39m\u001b[38;5;28;01mimport\u001b[39;00m Controller\n",
      "\u001b[31mModuleNotFoundError\u001b[39m: No module named 'langchain_openai'"
     ]
    }
   ],
   "source": [
    "from typing import List\n",
    "import asyncio\n",
    "from pydantic import BaseModel\n",
    "\n",
    "from langchain_openai import ChatOpenAI\n",
    "from browser_use import Agent\n",
    "from browser_use.controller.service import Controller\n",
    "\n",
    "controller = Controller()\n",
    "\n",
    "class StoreResult(BaseModel):\n",
    "    price: str\n",
    "    postage: str\n",
    "    coupon: str\n",
    "    points: str\n",
    "    store: str\n",
    "    ecName: str\n",
    "    time: str\n",
    "\n",
    "\n",
    "class StoreResults(BaseModel):\n",
    "\tstoreResults: List[StoreResult]\n",
    "\n",
    "\n",
    "@controller.action('Save Price', param_model=StoreResults)\n",
    "def save_price(params: StoreResults):\n",
    "\twith open('price.txt', 'a') as f:\n",
    "\t\tfor storeResult in params.storeResults:\n",
    "\t\t\tf.write(f'price:{storeResult.price},postage:{storeResult.postage},coupon:{storeResult.coupon},points:{storeResult.points},store:{storeResult.store},ecName:{storeResult.ecName},time:{storeResult.time}\\n')\n",
    "\n",
    "async def main():\n",
    "    agent = Agent(\n",
    "        task=\"\"\"\n",
    "あなたは価格監視のエージェントです。\n",
    "与えられたURLから商品の監視をしてください\n",
    "対象商品は: hegehoge商品\n",
    "- ecName: Sundrug-online url: https://sundrug-online.com/hegehoge\n",
    "- ecName: Rakuten url: https://item.rakuten.co.jp/sundrug/hegehoge\n",
    "- ecName: yodobashi url: https://www.yodobashi.com/product/hegehoge\n",
    "\n",
    "下記の形式でデータを教えてほしい\n",
    "- 価格\n",
    "- 送料(なければ0円)\n",
    "- クーポン(なければ0円)\n",
    "- ポイント(なければ0円)\n",
    "- ショップ名\n",
    "- ECサイトの名称\n",
    "\"\"\",\n",
    "        llm=ChatOpenAI(model=\"gpt-4o\"),\n",
    "\t\tcontroller=controller\n",
    "    )\n",
    "    result = await agent.run()\n",
    "    print(result)\n",
    "\n",
    "asyncio.run(main())\n"
   ]
  }
 ],
 "metadata": {
  "kernelspec": {
   "display_name": ".venv",
   "language": "python",
   "name": "python3"
  },
  "language_info": {
   "codemirror_mode": {
    "name": "ipython",
    "version": 3
   },
   "file_extension": ".py",
   "mimetype": "text/x-python",
   "name": "python",
   "nbconvert_exporter": "python",
   "pygments_lexer": "ipython3",
   "version": "3.13.2"
  }
 },
 "nbformat": 4,
 "nbformat_minor": 5
}
